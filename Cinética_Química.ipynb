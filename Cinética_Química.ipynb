{
  "nbformat": 4,
  "nbformat_minor": 0,
  "metadata": {
    "colab": {
      "provenance": []
    },
    "kernelspec": {
      "name": "python3",
      "display_name": "Python 3"
    },
    "language_info": {
      "name": "python"
    }
  },
  "cells": [
    {
      "cell_type": "code",
      "execution_count": 1,
      "metadata": {
        "id": "UCKd4X-9ePo8"
      },
      "outputs": [],
      "source": [
        " %%capture\n",
        "  !pip install rdkit\n",
        "  !pip install pyscf"
      ]
    },
    {
      "cell_type": "code",
      "source": [
        "# Importamos librerías\n",
        "from rdkit import Chem\n",
        "from rdkit.Chem import Draw\n",
        "from rdkit.Chem import AllChem\n",
        "from rdkit.Chem.Draw import IPythonConsole\n",
        "IPythonConsole.drawOptions.addAtomIndices = True\n",
        "from pyscf import gto, scf\n",
        ""
      ],
      "metadata": {
        "id": "OfsL5EnwgQdM"
      },
      "execution_count": 2,
      "outputs": []
    },
    {
      "cell_type": "markdown",
      "source": [
        "Isómero CIS\n"
      ],
      "metadata": {
        "id": "BeHiVdRqii2T"
      }
    },
    {
      "cell_type": "code",
      "source": [
        "# representación SMILES del isómero CIS\n",
        "smi_cis = \"O=C/C\"\n",
        "# elemento de RDKit\n",
        "cis = Chem.MolFromSmiles(smi_cis)\n",
        "# agregamos sus hidrógenos\n",
        "cis = Chem.AddHs(cis)\n",
        "# etiquetamos sus átomos y generamos sus coordenadas usando una semilla\n",
        "Chem.AllChem.EmbedMolecule(cis, useRandomCoords=False,randomSeed=1234)\n",
        "# guardamos a un archivo XYZ\n",
        "Chem.MolToXYZFile(cis, \"cis.xyz\")"
      ],
      "metadata": {
        "id": "NR_dcIXmk7Qp"
      },
      "execution_count": 16,
      "outputs": []
    },
    {
      "cell_type": "code",
      "source": [
        "#visualizamos\n",
        "cis"
      ],
      "metadata": {
        "colab": {
          "base_uri": "https://localhost:8080/",
          "height": 167
        },
        "id": "Wgh8I-cflDV6",
        "outputId": "e8ad4404-7b47-4170-b5c5-8e8153e34e2c"
      },
      "execution_count": 11,
      "outputs": [
        {
          "output_type": "execute_result",
          "data": {
            "text/plain": [
              "<rdkit.Chem.rdchem.Mol at 0x7fe7f3df0f20>"
            ],
            "image/png": "[encoded data removed]"
          },
          "metadata": {},
          "execution_count": 11
        }
      ]
    },
    {
      "cell_type": "code",
      "source": [
        "# visualizamos las coordenadas en el archivo XYZ\n",
        "!cat initial_cis.xyz"
      ],
      "metadata": {
        "colab": {
          "base_uri": "https://localhost:8080/"
        },
        "id": "YEkvHPAvlZpa",
        "outputId": "5234bd61-5b12-43c3-b675-f33ff3977fc7"
      },
      "execution_count": 23,
      "outputs": [
        {
          "output_type": "stream",
          "name": "stdout",
          "text": [
            "cat: initial_cis.xyz: No such file or directory\n"
          ]
        }
      ]
    },
    {
      "cell_type": "code",
      "source": [
        "smi_trans = \"O=C\\C\"\n",
        "trans = Chem.MolFromSmiles(smi_trans)\n",
        "trans = Chem.AddHs(trans)\n",
        "Chem.AllChem.EmbedMolecule(trans, useRandomCoords=False,randomSeed=1234)\n",
        "Chem.MolToXYZFile(trans, \"trans.xyz\")"
      ],
      "metadata": {
        "id": "AQ6h65x4l5H5"
      },
      "execution_count": 20,
      "outputs": []
    },
    {
      "cell_type": "code",
      "source": [
        "trans"
      ],
      "metadata": {
        "colab": {
          "base_uri": "https://localhost:8080/",
          "height": 167
        },
        "id": "NEW1Ih7zmH2C",
        "outputId": "236f22ce-52d0-4f4c-b869-814cc71c903f"
      },
      "execution_count": 19,
      "outputs": [
        {
          "output_type": "execute_result",
          "data": {
            "text/plain": [
              "<rdkit.Chem.rdchem.Mol at 0x7fe7f3df1310>"
            ],
            "image/png": "[encoded data removed]"
          },
          "metadata": {},
          "execution_count": 19
        }
      ]
    },
    {
      "cell_type": "code",
      "source": [
        "!cat trans.xyz"
      ],
      "metadata": {
        "colab": {
          "base_uri": "https://localhost:8080/"
        },
        "id": "G7ih8Og9mjLp",
        "outputId": "8411e193-032a-406c-fa46-72bb6658b293"
      },
      "execution_count": 21,
      "outputs": [
        {
          "output_type": "stream",
          "name": "stdout",
          "text": [
            "7\n",
            "\n",
            "O      1.570469   -0.925067    0.049356\n",
            "C      0.826591    0.026082   -0.025572\n",
            "C     -0.642282   -0.038785    0.019920\n",
            "H      1.291327    1.002172   -0.135095\n",
            "H     -1.064807   -1.005497   -0.293077\n",
            "H     -1.031317    0.721575   -0.687780\n",
            "H     -0.949981    0.219520    1.072249\n"
          ]
        }
      ]
    },
    {
      "cell_type": "code",
      "source": [
        "Chem.AllChem.SetDihedralDeg(cis.GetConformer(0),3,2,1,0,90.0)\n",
        "Chem.MolToXYZFile(cis, \"diedro90.xyz\")\n",
        "cis"
      ],
      "metadata": {
        "colab": {
          "base_uri": "https://localhost:8080/",
          "height": 167
        },
        "id": "OHwWcnfamyPt",
        "outputId": "79911495-5780-4a68-851b-8039e96c1c37"
      },
      "execution_count": 24,
      "outputs": [
        {
          "output_type": "execute_result",
          "data": {
            "text/plain": [
              "<rdkit.Chem.rdchem.Mol at 0x7fe7f3df1000>"
            ],
            "image/png": "[encoded data removed]"
          },
          "metadata": {},
          "execution_count": 24
        }
      ]
    },
    {
      "cell_type": "code",
      "source": [
        "!cat diedro90.xyz"
      ],
      "metadata": {
        "colab": {
          "base_uri": "https://localhost:8080/"
        },
        "id": "w2HcbQ1Rm7nG",
        "outputId": "bd8a56da-68b7-40d3-efba-4e2006d89228"
      },
      "execution_count": 25,
      "outputs": [
        {
          "output_type": "stream",
          "name": "stdout",
          "text": [
            "7\n",
            "\n",
            "O      1.576288    0.415712    0.800350\n",
            "C      0.843750    0.047097   -0.100834\n",
            "C     -0.612602   -0.032403    0.067367\n",
            "H      1.297948   -0.225880   -1.046509\n",
            "H     -0.923080   -0.412738    1.070141\n",
            "H     -1.063816    0.981890   -0.017722\n",
            "H     -1.118173   -0.650513   -0.711855\n"
          ]
        }
      ]
    },
    {
      "cell_type": "markdown",
      "source": [
        "Calculo de Energia"
      ],
      "metadata": {
        "id": "5gzOKTMqnBD5"
      }
    },
    {
      "cell_type": "code",
      "source": [
        "cis = gto.M(atom=\"cis.xyz\")"
      ],
      "metadata": {
        "id": "hxA5LxgJm9j3"
      },
      "execution_count": 26,
      "outputs": []
    },
    {
      "cell_type": "code",
      "source": [
        "cis.basis = \"6-31G\"\n",
        "mf_cis = cis.KS()\n",
        "mf_cis.xc = 'b3lyp'"
      ],
      "metadata": {
        "id": "9swLCNpinIUp"
      },
      "execution_count": 28,
      "outputs": []
    },
    {
      "cell_type": "code",
      "source": [
        "resultado_cis = mf_cis.kernel()\n",
        "resultado_cis"
      ],
      "metadata": {
        "colab": {
          "base_uri": "https://localhost:8080/"
        },
        "id": "HyI7DtQvnRZQ",
        "outputId": "00ed7153-2dc4-4ed2-c487-e3d968ec51be"
      },
      "execution_count": 29,
      "outputs": [
        {
          "output_type": "stream",
          "name": "stdout",
          "text": [
            "converged SCF energy = -151.804318825823\n"
          ]
        },
        {
          "output_type": "execute_result",
          "data": {
            "text/plain": [
              "-151.80431882582258"
            ]
          },
          "metadata": {},
          "execution_count": 29
        }
      ]
    },
    {
      "cell_type": "markdown",
      "source": [
        "Diedro 90"
      ],
      "metadata": {
        "id": "fn9Vyy8gnbcQ"
      }
    },
    {
      "cell_type": "code",
      "source": [
        "cis_90 = gto.M(atom=\"diedro90.xyz\")\n",
        ""
      ],
      "metadata": {
        "id": "_E7tGh9sndZB"
      },
      "execution_count": 30,
      "outputs": []
    },
    {
      "cell_type": "code",
      "source": [
        "cis_90.basis = \"6-31G\"\n",
        "mf_90 = cis_90.KS()\n",
        "mf_90.xc = 'b3lyp'"
      ],
      "metadata": {
        "id": "iaLAXj37nhKw"
      },
      "execution_count": 31,
      "outputs": []
    },
    {
      "cell_type": "code",
      "source": [
        "resultado_cis_90 = mf_90.kernel()\n",
        "resultado_cis_90"
      ],
      "metadata": {
        "colab": {
          "base_uri": "https://localhost:8080/"
        },
        "id": "vfuYRWkHnkTB",
        "outputId": "5622c172-44a6-4495-9a50-55b78450852c"
      },
      "execution_count": 32,
      "outputs": [
        {
          "output_type": "stream",
          "name": "stdout",
          "text": [
            "converged SCF energy = -151.805172417551\n"
          ]
        },
        {
          "output_type": "execute_result",
          "data": {
            "text/plain": [
              "-151.80517241755058"
            ]
          },
          "metadata": {},
          "execution_count": 32
        }
      ]
    },
    {
      "cell_type": "markdown",
      "source": [
        "TRANS"
      ],
      "metadata": {
        "id": "LJCvS70XnoJ5"
      }
    },
    {
      "cell_type": "code",
      "source": [
        "trans = gto.M(atom=\"trans.xyz\")\n",
        ""
      ],
      "metadata": {
        "id": "bmpfmoLBnslq"
      },
      "execution_count": 33,
      "outputs": []
    },
    {
      "cell_type": "code",
      "source": [
        "trans.basis = \"6-31G\"\n",
        "mf_trans = trans.KS()\n",
        "mf_trans.xc = 'b3lyp'"
      ],
      "metadata": {
        "id": "DRuT2uu5nvzp"
      },
      "execution_count": 34,
      "outputs": []
    },
    {
      "cell_type": "code",
      "source": [
        "resultado_trans= mf_trans.kernel()\n",
        "resultado_trans"
      ],
      "metadata": {
        "colab": {
          "base_uri": "https://localhost:8080/"
        },
        "id": "UkVOKQDYnzgJ",
        "outputId": "70c39bf5-1c62-479e-8c56-e27467eb9dc8"
      },
      "execution_count": 35,
      "outputs": [
        {
          "output_type": "stream",
          "name": "stdout",
          "text": [
            "converged SCF energy = -151.80435321315\n"
          ]
        },
        {
          "output_type": "execute_result",
          "data": {
            "text/plain": [
              "-151.8043532131503"
            ]
          },
          "metadata": {},
          "execution_count": 35
        }
      ]
    },
    {
      "cell_type": "markdown",
      "source": [
        "Grafica"
      ],
      "metadata": {
        "id": "qn3gkP-Yn8EI"
      }
    },
    {
      "cell_type": "code",
      "source": [
        "%%capture\n",
        "!pip install git+https://github.com/giacomomarchioro/PyEnergyDiagrams"
      ],
      "metadata": {
        "id": "W4lN2tLhn9cJ"
      },
      "execution_count": 36,
      "outputs": []
    },
    {
      "cell_type": "code",
      "source": [
        "import matplotlib.pyplot as plt\n",
        "from energydiagram import ED"
      ],
      "metadata": {
        "id": "k4nFVSThoD6J"
      },
      "execution_count": 37,
      "outputs": []
    },
    {
      "cell_type": "code",
      "source": [
        "diagram = ED()\n",
        "diagram.add_level(resultado_cis,'Cis',color='y')\n",
        "diagram.add_level(resultado_cis_90,'TS',color='r')\n",
        "diagram.add_level(resultado_trans,'trans',color='g')\n",
        "\n",
        "diagram.add_link(0,1)\n",
        "diagram.add_link(1,2)\n",
        "diagram.plot(ylabel=\"Energy\") # / Kcal mol-1\")\n",
        "\n"
      ],
      "metadata": {
        "colab": {
          "base_uri": "https://localhost:8080/",
          "height": 403
        },
        "id": "gkdGXNx-oGup",
        "outputId": "97f31113-05b7-4efe-c208-aaf1343b9ec5"
      },
      "execution_count": 44,
      "outputs": [
        {
          "output_type": "display_data",
          "data": {
            "text/plain": [
              "<Figure size 640x480 with 1 Axes>"
            ],
            "image/png": "[encoded data removed]"
          },
          "metadata": {}
        }
      ]
    },
    {
      "cell_type": "markdown",
      "source": [
        "Cinetica"
      ],
      "metadata": {
        "id": "jJcMf0pco4SB"
      }
    },
    {
      "cell_type": "code",
      "source": [
        "E_activacion = resultado_cis_90 - resultado_cis\n",
        "E_activacion"
      ],
      "metadata": {
        "colab": {
          "base_uri": "https://localhost:8080/"
        },
        "id": "YWSgHLqqozmv",
        "outputId": "ed62cee0-c3b7-4977-f91c-2c2457e9070d"
      },
      "execution_count": 41,
      "outputs": [
        {
          "output_type": "execute_result",
          "data": {
            "text/plain": [
              "-0.0008535917280028116"
            ]
          },
          "metadata": {},
          "execution_count": 41
        }
      ]
    },
    {
      "cell_type": "markdown",
      "source": [
        "Termodinamica"
      ],
      "metadata": {
        "id": "_va3ZCQco98g"
      }
    },
    {
      "cell_type": "code",
      "source": [
        "entalpia = resultado_trans - resultado_cis\n",
        "if entalpia>0:\n",
        "  print(\"La reacción es endotérmica\")\n",
        "else:\n",
        "    print(\"La reacción es exotérmica\")\n",
        ""
      ],
      "metadata": {
        "colab": {
          "base_uri": "https://localhost:8080/"
        },
        "id": "XFDVWpjuo9FA",
        "outputId": "dfbd2d29-323e-4647-f388-72f8cda9d3cf"
      },
      "execution_count": 42,
      "outputs": [
        {
          "output_type": "stream",
          "name": "stdout",
          "text": [
            "La reacción es exotérmica\n"
          ]
        }
      ]
    }
  ]
}